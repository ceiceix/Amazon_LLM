{
 "cells": [
  {
   "cell_type": "code",
   "execution_count": 2,
   "metadata": {},
   "outputs": [
    {
     "name": "stderr",
     "output_type": "stream",
     "text": [
      "C:\\Users\\ZZY\\AppData\\Roaming\\Python\\Python310\\site-packages\\tqdm\\auto.py:21: TqdmWarning: IProgress not found. Please update jupyter and ipywidgets. See https://ipywidgets.readthedocs.io/en/stable/user_install.html\n",
      "  from .autonotebook import tqdm as notebook_tqdm\n"
     ]
    }
   ],
   "source": [
    "import pandas as pd\n",
    "import numpy as np\n",
    "from sentence_transformers import SentenceTransformer, util\n"
   ]
  },
  {
   "cell_type": "code",
   "execution_count": 3,
   "metadata": {},
   "outputs": [
    {
     "name": "stderr",
     "output_type": "stream",
     "text": [
      "C:\\Users\\ZZY\\AppData\\Roaming\\Python\\Python310\\site-packages\\huggingface_hub\\file_download.py:139: UserWarning: `huggingface_hub` cache-system uses symlinks by default to efficiently store duplicated files but your machine does not support them in C:\\Users\\ZZY\\.cache\\huggingface\\hub\\models--sentence-transformers--all-MiniLM-L6-v2. Caching files will still work but in a degraded version that might require more space on your disk. This warning can be disabled by setting the `HF_HUB_DISABLE_SYMLINKS_WARNING` environment variable. For more details, see https://huggingface.co/docs/huggingface_hub/how-to-cache#limitations.\n",
      "To support symlinks on Windows, you either need to activate Developer Mode or to run Python as an administrator. In order to activate developer mode, see this article: https://docs.microsoft.com/en-us/windows/apps/get-started/enable-your-device-for-development\n",
      "  warnings.warn(message)\n"
     ]
    },
    {
     "name": "stdout",
     "output_type": "stream",
     "text": [
      "Recommended Books Based on Your Reading History:\n",
      "                                                  Title  \\\n",
      "2667       The Best of Sherlock Holmes (Set of 2 Books)   \n",
      "3637  The Adventures of Sherlock Holmes (AmazonClass...   \n",
      "847   The Memoirs of Sherlock Holmes : Illustrated A...   \n",
      "3581                                             Mythos   \n",
      "3568                                               Dune   \n",
      "\n",
      "                      Author                 Main Genre  \\\n",
      "2667  Sir Arthur Conan Doyle  Crime, Thriller & Mystery   \n",
      "3637      Arthur Conan Doyle       Literature & Fiction   \n",
      "847       Arthur Conan Doyle           Children's Books   \n",
      "3581             Stephen Fry       Literature & Fiction   \n",
      "3568           Frank Herbert       Literature & Fiction   \n",
      "\n",
      "                            Sub Genre                   Type    Price  Rating  \\\n",
      "2667           Thrillers and Suspense              Paperback  ₹349.00     4.6   \n",
      "3637        Crime, Thriller & Mystery         Kindle Edition  ₹129.15     4.5   \n",
      "847   Fairy Tales, Folk Tales & Myths              Hardcover  ₹139.00     4.3   \n",
      "3581                  Classic Fiction      Audible Audiobook  ₹957.00     4.6   \n",
      "3568                  Classic Fiction  Mass Market Paperback  ₹344.00     4.5   \n",
      "\n",
      "      No. of People rated     score  \n",
      "2667               2239.0  0.802250  \n",
      "3637               1720.0  0.769051  \n",
      "847                  65.0  0.704687  \n",
      "3581              18384.0  0.610570  \n",
      "3568              88530.0  0.608747  \n"
     ]
    }
   ],
   "source": [
    "def load_books_data(file_path=\"Amazon_Books_Scraping/Books_df.csv\"):\n",
    "    \"\"\"Load the books data from a CSV file.\"\"\"\n",
    "    return pd.read_csv(file_path)\n",
    "\n",
    "def get_book_text(row):\n",
    "    \"\"\"\n",
    "    Create a descriptive text for a book.\n",
    "    Modify this to include additional fields if desired.\n",
    "    \"\"\"\n",
    "    return (\n",
    "        f\"{row['Title']} by {row['Author']}. Genre: {row['Main Genre']}, {row['Sub Genre']}. \"\n",
    "        f\"Type: {row['Type']}. Price: {row['Price']}.\"\n",
    "    )\n",
    "\n",
    "def compute_embeddings(df, model):\n",
    "    \"\"\"\n",
    "    Compute embeddings for each book based on its descriptive text.\n",
    "    The order of the embeddings corresponds to the DataFrame's order.\n",
    "    \"\"\"\n",
    "    texts = df.apply(get_book_text, axis=1).tolist()\n",
    "    embeddings = model.encode(texts, convert_to_tensor=True)\n",
    "    return embeddings\n",
    "\n",
    "def get_user_reading_history(df, read_titles):\n",
    "    \"\"\"\n",
    "    Filter the DataFrame to get the books that the user has read.\n",
    "    `read_titles` should be a list of titles that the user has already read.\n",
    "    \"\"\"\n",
    "    return df[df['Title'].isin(read_titles)]\n",
    "\n",
    "def recommend_books_from_history(user_history_df, candidate_df, model, candidate_embeddings, top_k=5):\n",
    "    \"\"\"\n",
    "    Recommend books based on the user's reading history.\n",
    "    \n",
    "    1. Compute embeddings for the books the user has read.\n",
    "    2. Aggregate these embeddings (e.g., by taking their mean).\n",
    "    3. Compute cosine similarities between the aggregated embedding and all candidate books.\n",
    "    4. Exclude the books already read and return the top recommendations.\n",
    "    \"\"\"\n",
    "    # Compute embeddings for user's reading history texts\n",
    "    user_texts = user_history_df.apply(get_book_text, axis=1).tolist()\n",
    "    user_embeddings = model.encode(user_texts, convert_to_tensor=True)\n",
    "    \n",
    "    # Aggregate embeddings (e.g., using the mean)\n",
    "    aggregated_user_embedding = user_embeddings.mean(dim=0)\n",
    "    \n",
    "    # Compute cosine similarities between the aggregated user embedding and all candidate book embeddings\n",
    "    cosine_scores = util.cos_sim(aggregated_user_embedding, candidate_embeddings)[0]\n",
    "    \n",
    "    # Add the similarity scores to the candidate DataFrame\n",
    "    candidate_df = candidate_df.copy()  # avoid modifying original DataFrame\n",
    "    candidate_df['score'] = cosine_scores.cpu().numpy()\n",
    "    \n",
    "    # Exclude books that are in the user's reading history\n",
    "    recommended_df = candidate_df[~candidate_df['Title'].isin(user_history_df['Title'])]\n",
    "    \n",
    "    # Sort by similarity score in descending order and return the top recommendations\n",
    "    recommended_df = recommended_df.sort_values(by='score', ascending=False).head(top_k)\n",
    "    return recommended_df[['Title', 'Author', 'Main Genre', 'Sub Genre', 'Type', 'Price', 'Rating', 'No. of People rated', 'score']]\n",
    "\n",
    "if __name__ == \"__main__\":\n",
    "    # Load the books dataset\n",
    "    books_df = load_books_data(\"Amazon_Books_Scraping/Books_df.csv\")\n",
    "    \n",
    "    # Load a pre-trained SentenceTransformer model (no API key required)\n",
    "    model = SentenceTransformer('all-MiniLM-L6-v2')\n",
    "    \n",
    "    # Compute embeddings for all candidate books\n",
    "    candidate_embeddings = compute_embeddings(books_df, model)\n",
    "    \n",
    "    # Define the user's reading history (for demonstration, we use a list of titles the user has read)\n",
    "    # For example, assume the user has read the first two books in the dataset.\n",
    "    user_read_titles = books_df['Title'].head(2).tolist()\n",
    "    user_history_df = get_user_reading_history(books_df, user_read_titles)\n",
    "    \n",
    "    # Get top recommendations based on the user's reading history\n",
    "    recommendations = recommend_books_from_history(user_history_df, books_df, model, candidate_embeddings, top_k=5)\n",
    "    \n",
    "    print(\"Recommended Books Based on Your Reading History:\")\n",
    "    print(recommendations)\n"
   ]
  }
 ],
 "metadata": {
  "kernelspec": {
   "display_name": "Python 3",
   "language": "python",
   "name": "python3"
  },
  "language_info": {
   "codemirror_mode": {
    "name": "ipython",
    "version": 3
   },
   "file_extension": ".py",
   "mimetype": "text/x-python",
   "name": "python",
   "nbconvert_exporter": "python",
   "pygments_lexer": "ipython3",
   "version": "3.10.0"
  }
 },
 "nbformat": 4,
 "nbformat_minor": 2
}
