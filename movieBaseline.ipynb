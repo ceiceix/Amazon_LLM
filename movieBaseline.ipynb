{
 "cells": [
  {
   "cell_type": "code",
   "execution_count": 42,
   "metadata": {},
   "outputs": [],
   "source": [
    "import pandas as pd\n",
    "import numpy as np\n",
    "from surprise import Dataset, Reader\n",
    "from surprise import SVD, KNNBasic, accuracy\n",
    "from surprise.model_selection import train_test_split\n",
    "import collections\n",
    "from collections import defaultdict\n",
    "import math"
   ]
  },
  {
   "cell_type": "markdown",
   "metadata": {},
   "source": [
    "If using anaconda, use ***conda install -c conda-forge scikit-surprise*** to install surprise package."
   ]
  },
  {
   "cell_type": "markdown",
   "metadata": {},
   "source": [
    "Surprise is *Simple Python Recommendation System Engine* it can use KNN as baseline model"
   ]
  },
  {
   "cell_type": "code",
   "execution_count": 7,
   "metadata": {},
   "outputs": [],
   "source": [
    "ratings = pd.read_csv(\n",
    "    'ml-1m/ratings.dat',\n",
    "    sep='::',\n",
    "    names=['user_id', 'movie_id', 'rating', 'timestamp'],\n",
    "    engine='python'\n",
    ")\n",
    "users = pd.read_csv(\n",
    "    'ml-1m/users.dat',\n",
    "    sep='::',\n",
    "    names=['user_id', 'gender', 'age', 'occupation', 'zip'],\n",
    "    engine='python'\n",
    ")\n",
    "movies = pd.read_csv(\n",
    "    'ml-1m/movies.dat',\n",
    "    sep='::',\n",
    "    names=['movie_id', 'title', 'genres'],\n",
    "    engine='python',\n",
    "    encoding='latin-1'\n",
    ")\n",
    "\n",
    "data = pd.merge(ratings, users, on='user_id', how='left')\n",
    "data = pd.merge(data, movies, on='movie_id', how='left')"
   ]
  },
  {
   "cell_type": "code",
   "execution_count": 10,
   "metadata": {},
   "outputs": [
    {
     "data": {
      "text/html": [
       "<div>\n",
       "<style scoped>\n",
       "    .dataframe tbody tr th:only-of-type {\n",
       "        vertical-align: middle;\n",
       "    }\n",
       "\n",
       "    .dataframe tbody tr th {\n",
       "        vertical-align: top;\n",
       "    }\n",
       "\n",
       "    .dataframe thead th {\n",
       "        text-align: right;\n",
       "    }\n",
       "</style>\n",
       "<table border=\"1\" class=\"dataframe\">\n",
       "  <thead>\n",
       "    <tr style=\"text-align: right;\">\n",
       "      <th></th>\n",
       "      <th>user_id</th>\n",
       "      <th>movie_id</th>\n",
       "      <th>rating</th>\n",
       "      <th>timestamp</th>\n",
       "      <th>gender</th>\n",
       "      <th>age</th>\n",
       "      <th>occupation</th>\n",
       "      <th>zip</th>\n",
       "      <th>title</th>\n",
       "      <th>genres</th>\n",
       "    </tr>\n",
       "  </thead>\n",
       "  <tbody>\n",
       "    <tr>\n",
       "      <th>0</th>\n",
       "      <td>1</td>\n",
       "      <td>1193</td>\n",
       "      <td>5</td>\n",
       "      <td>978300760</td>\n",
       "      <td>F</td>\n",
       "      <td>1</td>\n",
       "      <td>10</td>\n",
       "      <td>48067</td>\n",
       "      <td>One Flew Over the Cuckoo's Nest (1975)</td>\n",
       "      <td>Drama</td>\n",
       "    </tr>\n",
       "    <tr>\n",
       "      <th>1</th>\n",
       "      <td>1</td>\n",
       "      <td>661</td>\n",
       "      <td>3</td>\n",
       "      <td>978302109</td>\n",
       "      <td>F</td>\n",
       "      <td>1</td>\n",
       "      <td>10</td>\n",
       "      <td>48067</td>\n",
       "      <td>James and the Giant Peach (1996)</td>\n",
       "      <td>Animation|Children's|Musical</td>\n",
       "    </tr>\n",
       "    <tr>\n",
       "      <th>2</th>\n",
       "      <td>1</td>\n",
       "      <td>914</td>\n",
       "      <td>3</td>\n",
       "      <td>978301968</td>\n",
       "      <td>F</td>\n",
       "      <td>1</td>\n",
       "      <td>10</td>\n",
       "      <td>48067</td>\n",
       "      <td>My Fair Lady (1964)</td>\n",
       "      <td>Musical|Romance</td>\n",
       "    </tr>\n",
       "    <tr>\n",
       "      <th>3</th>\n",
       "      <td>1</td>\n",
       "      <td>3408</td>\n",
       "      <td>4</td>\n",
       "      <td>978300275</td>\n",
       "      <td>F</td>\n",
       "      <td>1</td>\n",
       "      <td>10</td>\n",
       "      <td>48067</td>\n",
       "      <td>Erin Brockovich (2000)</td>\n",
       "      <td>Drama</td>\n",
       "    </tr>\n",
       "    <tr>\n",
       "      <th>4</th>\n",
       "      <td>1</td>\n",
       "      <td>2355</td>\n",
       "      <td>5</td>\n",
       "      <td>978824291</td>\n",
       "      <td>F</td>\n",
       "      <td>1</td>\n",
       "      <td>10</td>\n",
       "      <td>48067</td>\n",
       "      <td>Bug's Life, A (1998)</td>\n",
       "      <td>Animation|Children's|Comedy</td>\n",
       "    </tr>\n",
       "  </tbody>\n",
       "</table>\n",
       "</div>"
      ],
      "text/plain": [
       "   user_id  movie_id  rating  timestamp gender  age  occupation    zip  \\\n",
       "0        1      1193       5  978300760      F    1          10  48067   \n",
       "1        1       661       3  978302109      F    1          10  48067   \n",
       "2        1       914       3  978301968      F    1          10  48067   \n",
       "3        1      3408       4  978300275      F    1          10  48067   \n",
       "4        1      2355       5  978824291      F    1          10  48067   \n",
       "\n",
       "                                    title                        genres  \n",
       "0  One Flew Over the Cuckoo's Nest (1975)                         Drama  \n",
       "1        James and the Giant Peach (1996)  Animation|Children's|Musical  \n",
       "2                     My Fair Lady (1964)               Musical|Romance  \n",
       "3                  Erin Brockovich (2000)                         Drama  \n",
       "4                    Bug's Life, A (1998)   Animation|Children's|Comedy  "
      ]
     },
     "execution_count": 10,
     "metadata": {},
     "output_type": "execute_result"
    }
   ],
   "source": [
    "data.head()"
   ]
  },
  {
   "cell_type": "markdown",
   "metadata": {},
   "source": [
    "### Setting up Recommendation system (Surprise)"
   ]
  },
  {
   "cell_type": "code",
   "execution_count": 13,
   "metadata": {},
   "outputs": [],
   "source": [
    "df_ratings = ratings[['user_id', 'movie_id', 'rating']].copy()\n",
    "reader = Reader(rating_scale=(1, 5))\n",
    "dataset = Dataset.load_from_df(df_ratings, reader)\n",
    "\n",
    "train_set, test_set = train_test_split(dataset, test_size=0.2, random_state=42)"
   ]
  },
  {
   "cell_type": "code",
   "execution_count": 14,
   "metadata": {},
   "outputs": [
    {
     "name": "stdout",
     "output_type": "stream",
     "text": [
      "Computing the cosine similarity matrix...\n",
      "Done computing similarity matrix.\n",
      "RMSE: 0.9988\n",
      "KNN RMSE: 0.9988005727431559\n"
     ]
    }
   ],
   "source": [
    "sim_options = {\n",
    "    'name': 'cosine',\n",
    "    'user_based': False\n",
    "}\n",
    "\n",
    "model_knn = KNNBasic(sim_options=sim_options)\n",
    "model_knn.fit(train_set)\n",
    "pred_knn = model_knn.test(test_set)\n",
    "rmse_knn = accuracy.rmse(pred_knn)\n",
    "print('KNN RMSE:', rmse_knn)"
   ]
  },
  {
   "cell_type": "code",
   "execution_count": 15,
   "metadata": {},
   "outputs": [
    {
     "name": "stdout",
     "output_type": "stream",
     "text": [
      "RMSE: 0.8731\n",
      "SVD RMSE: 0.8730587435087336\n"
     ]
    }
   ],
   "source": [
    "model_svd = SVD()\n",
    "model_svd.fit(train_set)\n",
    "pred_svd = model_svd.test(test_set)\n",
    "rmse_svd = accuracy.rmse(pred_svd)\n",
    "print('SVD RMSE:', rmse_svd)"
   ]
  },
  {
   "cell_type": "code",
   "execution_count": 47,
   "metadata": {},
   "outputs": [],
   "source": [
    "def precision_recall(predictions, k=10, threshold=3.5):\n",
    "    user_est_true = defaultdict(list)\n",
    "    for uid, iid, true_r, est, _ in predictions:\n",
    "        user_est_true[uid].append((iid, est, true_r))\n",
    "    precisions = []\n",
    "    recalls = []\n",
    "    \n",
    "    for uid, user_ratings in user_est_true.items():\n",
    "        user_ratings.sort(key=lambda x: x[1], reverse=True)\n",
    "        n_rel = sum((true_r >= threshold) for (_, _, true_r) in user_ratings)\n",
    "        n_rec_k = sum((true_r >= threshold) for (_, _, true_r) in user_ratings[:k])\n",
    "        \n",
    "        if k > 0:\n",
    "            precision = n_rec_k / k\n",
    "        else:\n",
    "            precision = 1\n",
    "        if n_rel != 0:\n",
    "            recall = n_rec_k / n_rel\n",
    "        else:\n",
    "            recall = 1\n",
    "        precisions.append(precision)\n",
    "        recalls.append(recall)\n",
    "    mean_precision = np.mean(precisions)\n",
    "    mean_recall = np.mean(recalls)\n",
    "    return mean_precision, mean_recall"
   ]
  },
  {
   "cell_type": "markdown",
   "metadata": {},
   "source": [
    "### Data Sparsity "
   ]
  },
  {
   "cell_type": "code",
   "execution_count": 48,
   "metadata": {},
   "outputs": [
    {
     "name": "stdout",
     "output_type": "stream",
     "text": [
      "==========Data fraction: 0.1==========\n",
      "Computing the cosine similarity matrix...\n",
      "Done computing similarity matrix.\n",
      "RMSE: 1.0994\n",
      "==========Data fraction: 0.3==========\n",
      "Computing the cosine similarity matrix...\n",
      "Done computing similarity matrix.\n",
      "RMSE: 1.0479\n",
      "==========Data fraction: 0.5==========\n",
      "Computing the cosine similarity matrix...\n",
      "Done computing similarity matrix.\n",
      "RMSE: 1.0206\n",
      "==========Data fraction: 0.7==========\n",
      "Computing the cosine similarity matrix...\n",
      "Done computing similarity matrix.\n",
      "RMSE: 1.0090\n",
      "Sparsity Analysis\n",
      "Fraction: 0.1, RMSE: 1.0994407902790586, Precision: 0.22392598894087623, Recall: 0.9759417774146141\n",
      "Fraction: 0.3, RMSE: 1.0479165161276993, Precision: 0.38932662270045126, Recall: 0.8699812861426067\n",
      "Fraction: 0.5, RMSE: 1.020628624860206, Precision: 0.4998320456835741, Recall: 0.7852348081517267\n",
      "Fraction: 0.7, RMSE: 1.0090022068848437, Precision: 0.5780418882978723, Recall: 0.7164635733766043\n"
     ]
    }
   ],
   "source": [
    "fractions = [0.1, 0.3, 0.5, 0.7]\n",
    "results_rmse = {}\n",
    "results_prec = {}\n",
    "results_recall = {}\n",
    "\n",
    "for f in fractions:\n",
    "    print(f'==========Data fraction: {f}==========')\n",
    "    df_sample = df_ratings.sample(frac=f, random_state=42)\n",
    "    dataset_sample = Dataset.load_from_df(df_sample, reader)\n",
    "    train_set_sample, test_set_sample = train_test_split(dataset_sample, test_size=0.2, random_state=42)\n",
    "    \n",
    "    model_knn = KNNBasic(sim_options=sim_options)\n",
    "    model_knn.fit(train_set_sample)\n",
    "    pred_knn = model_knn.test(test_set_sample)\n",
    "    \n",
    "    rmse_knn = accuracy.rmse(pred_knn)\n",
    "    results_rmse[f] = rmse_knn\n",
    "    \n",
    "    p_val, r_val = precision_recall(pred_knn, k=10, threshold=3.5)\n",
    "    results_prec[f] = p_val\n",
    "    results_recall[f] = r_val\n",
    "\n",
    "print(\"Sparsity Analysis\")\n",
    "for f in fractions:\n",
    "    print(f\"Fraction: {f}, RMSE: {results_rmse[f]}, Precision: {results_prec[f]}, Recall: {results_recall[f]}\")\n"
   ]
  },
  {
   "cell_type": "markdown",
   "metadata": {},
   "source": [
    "### Item Popularity"
   ]
  },
  {
   "cell_type": "code",
   "execution_count": 49,
   "metadata": {},
   "outputs": [],
   "source": [
    "df_itempop = pd.read_csv(\n",
    "    'ml-1m/ratings.dat',\n",
    "    sep='::',\n",
    "    names=['user_id', 'movie_id', 'rating', 'timestamp'],\n",
    "    engine='python'\n",
    ")\n",
    "\n",
    "df_itempop = df_itempop[['user_id', 'movie_id', 'rating']] # drop timestamp for now\n",
    "data_itempop = Dataset.load_from_df(df_itempop, reader)\n",
    "train_set_ip, test_set_ip = train_test_split(data_itempop, test_size=0.2, random_state=42)\n"
   ]
  },
  {
   "cell_type": "code",
   "execution_count": null,
   "metadata": {},
   "outputs": [],
   "source": [
    "\n",
    "train_items = collections.defaultdict(int)\n",
    "\n",
    "for uid, iid, rating in train_set.all_ratings():\n",
    "    raw_iid = train_set.to_raw_iid(int(iid))\n",
    "    train_items[raw_iid] += 1"
   ]
  },
  {
   "cell_type": "code",
   "execution_count": null,
   "metadata": {},
   "outputs": [
    {
     "name": "stdout",
     "output_type": "stream",
     "text": [
      "Number of popular items: 735\n"
     ]
    }
   ],
   "source": [
    "\n",
    "sorted_items = sorted(train_items.items(), key=lambda x: x[1], reverse=True)\n",
    "num_popular_items = math.ceil(0.2 * len(sorted_items))\n",
    "popular_item_ids = set([item[0] for item in sorted_items[:num_popular_items]])\n",
    "\n",
    "print(f\"Number of popular items: {num_popular_items}\")\n"
   ]
  },
  {
   "cell_type": "code",
   "execution_count": 56,
   "metadata": {},
   "outputs": [
    {
     "name": "stdout",
     "output_type": "stream",
     "text": [
      "Computing the cosine similarity matrix...\n",
      "Done computing similarity matrix.\n",
      "RMSE: 0.9988\n",
      "RMSE: 0.9524\n",
      "RMSE: 1.0795\n",
      "Item Popularity Bias Analysis\n",
      "Overall RMSE: 0.9988005727431559, Precision: 0.6575335653903531, Recall: 0.6296417338126692\n",
      "Popular Items RMSE: 0.9523874334003957, Precision: 0.6224292845257904, Recall: 0.712438557242363\n",
      "Long-tail Items RMSE: 1.0794934990129461, Precision: 0.3218455402465555, Recall: 0.864917496083326\n"
     ]
    }
   ],
   "source": [
    "model_knn_pop = KNNBasic(sim_options=sim_options)\n",
    "model_knn_pop.fit(train_set)\n",
    "pred_knn_pop = model_knn_pop.test(test_set_ip)\n",
    "\n",
    "rmse_all = accuracy.rmse(pred_knn_pop)\n",
    "p_all, r_all = precision_recall(pred_knn_pop, k=10, threshold=3.5)\n",
    "\n",
    "preds_popular = []\n",
    "preds_longtail = []\n",
    "\n",
    "for p in pred_knn_pop:\n",
    "    if p.iid in popular_item_ids:\n",
    "        preds_popular.append(p)\n",
    "    else:\n",
    "        preds_longtail.append(p)\n",
    "        \n",
    "rmse_popular = accuracy.rmse(preds_popular)\n",
    "p_pop, r_pop = precision_recall(preds_popular, k=10, threshold=3.5)\n",
    "rmse_longtail = accuracy.rmse(preds_longtail)\n",
    "p_long, r_long = precision_recall(preds_longtail, k=10, threshold=3.5)\n",
    "\n",
    "print(\"Item Popularity Bias Analysis\")\n",
    "print(f\"Overall RMSE: {rmse_all}, Precision: {p_all}, Recall: {r_all}\")\n",
    "print(f\"Popular Items RMSE: {rmse_popular}, Precision: {p_pop}, Recall: {r_pop}\")\n",
    "print(f\"Long-tail Items RMSE: {rmse_longtail}, Precision: {p_long}, Recall: {r_long}\")\n"
   ]
  },
  {
   "cell_type": "markdown",
   "metadata": {},
   "source": [
    "### Cold start"
   ]
  },
  {
   "cell_type": "code",
   "execution_count": 57,
   "metadata": {},
   "outputs": [],
   "source": [
    "df_cold = pd.read_csv(\n",
    "    'ml-1m/ratings.dat',\n",
    "    sep='::',\n",
    "    names=['user_id', 'movie_id', 'rating', 'timestamp'],\n",
    "    engine='python'\n",
    ")\n",
    "\n",
    "df_cold = df_cold[['user_id', 'movie_id', 'rating']] # drop timestamp for now"
   ]
  },
  {
   "cell_type": "code",
   "execution_count": 58,
   "metadata": {},
   "outputs": [],
   "source": [
    "\n",
    "data_cold = Dataset.load_from_df(df_cold, reader)\n",
    "train_set_cold, test_set_cold = train_test_split(data_cold, test_size=0.2, random_state=42)"
   ]
  },
  {
   "cell_type": "code",
   "execution_count": 59,
   "metadata": {},
   "outputs": [],
   "source": [
    "test_df_cold = pd.DataFrame(test_set_cold, columns=['user_id', 'movie_id', 'rating'])\n",
    "new_users = [\n",
    "    (6041,1,5),\n",
    "    (6041,50,1),\n",
    "    (6042,10,1),\n",
    "    (6042,100,5),\n",
    "    (6043,33,2),\n",
    "    (6043,55,5),\n",
    "    (6044,66,1),\n",
    "    (6044,77,5)     \n",
    "    ]\n",
    "\n",
    "new_users_df = pd.DataFrame(new_users, columns=['user_id', 'movie_id', 'rating'])\n",
    "test_df_cold = pd.concat([test_df_cold, new_users_df], ignore_index=True)\n"
   ]
  },
  {
   "cell_type": "code",
   "execution_count": 60,
   "metadata": {},
   "outputs": [
    {
     "name": "stdout",
     "output_type": "stream",
     "text": [
      "Computing the cosine similarity matrix...\n",
      "Done computing similarity matrix.\n",
      "RMSE: 0.9989\n",
      "RMSE: 1.9539\n",
      "RMSE: 0.9988\n",
      "Cold Start Analysis\n",
      "Overall RMSE: 0.9988570278743717, Precision: 0.6571641543813153, Recall: 0.6298871260711998\n",
      "New Users RMSE: 1.9539083898500522, Precision: 0.1, Recall: 1.0\n",
      "Old Users RMSE: 0.9988005727431559, Precision: 0.6575335653903531, Recall: 0.6296417338126692\n"
     ]
    }
   ],
   "source": [
    "test_set_new = list(test_df_cold[['user_id', 'movie_id', 'rating']].itertuples(index=False, name=None))\n",
    "\n",
    "model_knn_cold = KNNBasic(sim_options=sim_options)\n",
    "model_knn_cold.fit(train_set_cold)\n",
    "pred_knn_cold = model_knn_cold.test(test_set_new)\n",
    "rmse_knn_cold = accuracy.rmse(pred_knn_cold)\n",
    "\n",
    "new_user_ids = {6041, 6042, 6043, 6044}\n",
    "#filter out predictions for new users\n",
    "preds_new = [p for p in pred_knn_cold if p.uid in new_user_ids]\n",
    "preds_old = [p for p in pred_knn_cold if p.uid not in new_user_ids]\n",
    "\n",
    "rmse_new = accuracy.rmse(preds_new)\n",
    "rmse_old = accuracy.rmse(preds_old)\n",
    "\n",
    "p_all_cold, r_all_cold = precision_recall(pred_knn_cold, k=10, threshold=3.5)\n",
    "p_new, r_new = precision_recall(preds_new, k=10, threshold=3.5)\n",
    "p_old, r_old = precision_recall(preds_old, k=10, threshold=3.5)\n",
    "print(\"Cold Start Analysis\")\n",
    "print(f\"Overall RMSE: {rmse_knn_cold}, Precision: {p_all_cold}, Recall: {r_all_cold}\")\n",
    "print(f\"New Users RMSE: {rmse_new}, Precision: {p_new}, Recall: {r_new}\")\n",
    "print(f\"Old Users RMSE: {rmse_old}, Precision: {p_old}, Recall: {r_old}\")\n"
   ]
  },
  {
   "cell_type": "code",
   "execution_count": null,
   "metadata": {},
   "outputs": [],
   "source": []
  }
 ],
 "metadata": {
  "kernelspec": {
   "display_name": "ece1786",
   "language": "python",
   "name": "python3"
  },
  "language_info": {
   "codemirror_mode": {
    "name": "ipython",
    "version": 3
   },
   "file_extension": ".py",
   "mimetype": "text/x-python",
   "name": "python",
   "nbconvert_exporter": "python",
   "pygments_lexer": "ipython3",
   "version": "3.10.14"
  }
 },
 "nbformat": 4,
 "nbformat_minor": 2
}
